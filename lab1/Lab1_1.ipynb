{
 "cells": [
  {
   "cell_type": "markdown",
   "metadata": {
    "editable": true,
    "slideshow": {
     "slide_type": ""
    },
    "tags": []
   },
   "source": [
    "# **Лабораторная работа №1**\n",
    "\n",
    "## **Выполнил:** Некрасов Константин М8О-310Б-22\n",
    "\n"
   ]
  },
  {
   "cell_type": "markdown",
   "metadata": {
    "id": "cXTzO5HV18Yr"
   },
   "source": [
    "# 1. Numpy\n",
    "\n",
    "Необходимо использовать функции и методы библиотеки numpy. Использовать циклы, генераторы списков **запрещено**."
   ]
  },
  {
   "cell_type": "code",
   "metadata": {
    "ExecuteTime": {
     "end_time": "2025-01-09T10:55:16.006652Z",
     "start_time": "2025-01-09T10:55:14.759845Z"
    }
   },
   "source": [
    "import numpy as np"
   ],
   "outputs": [],
   "execution_count": 1
  },
  {
   "cell_type": "markdown",
   "metadata": {
    "id": "AmUMh0xo32nb"
   },
   "source": [
    "1. Создайте матрицу $3 × 3 $ со значениями от 0 до 8."
   ]
  },
  {
   "cell_type": "code",
   "execution_count": 3,
   "metadata": {
    "id": "34WhZifT13Jn",
    "jupyter": {
     "is_executing": true
    }
   },
   "outputs": [
    {
     "data": {
      "text/plain": [
       "array([[0, 1, 2],\n",
       "       [3, 4, 5],\n",
       "       [6, 7, 8]])"
      ]
     },
     "execution_count": 3,
     "metadata": {},
     "output_type": "execute_result"
    }
   ],
   "source": [
    "matrix = np.arange(9).reshape(3, 3)\n",
    "\n",
    "matrix"
   ]
  },
  {
   "cell_type": "markdown",
   "metadata": {
    "id": "1jSpAGnP12Vn"
   },
   "source": [
    "2. Создайте матрицу шахматной доски  $8 × 8 $, заполненную 'B' и 'W', используя функцию tile."
   ]
  },
  {
   "cell_type": "code",
   "execution_count": 5,
   "metadata": {
    "id": "OKjYdYlB32JN",
    "jupyter": {
     "is_executing": true
    }
   },
   "outputs": [
    {
     "data": {
      "text/plain": [
       "array([['B', 'W', 'B', 'W', 'B', 'W', 'B', 'W'],\n",
       "       ['W', 'B', 'W', 'B', 'W', 'B', 'W', 'B'],\n",
       "       ['B', 'W', 'B', 'W', 'B', 'W', 'B', 'W'],\n",
       "       ['W', 'B', 'W', 'B', 'W', 'B', 'W', 'B'],\n",
       "       ['B', 'W', 'B', 'W', 'B', 'W', 'B', 'W'],\n",
       "       ['W', 'B', 'W', 'B', 'W', 'B', 'W', 'B'],\n",
       "       ['B', 'W', 'B', 'W', 'B', 'W', 'B', 'W'],\n",
       "       ['W', 'B', 'W', 'B', 'W', 'B', 'W', 'B']], dtype='<U1')"
      ]
     },
     "execution_count": 5,
     "metadata": {},
     "output_type": "execute_result"
    }
   ],
   "source": [
    "chessboard = np.tile([['B', 'W'], ['W', 'B']], (4, 4))\n",
    "\n",
    "chessboard"
   ]
  },
  {
   "cell_type": "markdown",
   "metadata": {
    "id": "_k7LOsPh4Feo"
   },
   "source": [
    "3. Найти индексы ненулевых элементов в произвольном массиве, например: $ [1,2,0,0,4,0,0,4,6,4,0] $\n"
   ]
  },
  {
   "cell_type": "code",
   "execution_count": 34,
   "metadata": {
    "id": "BUJdZFGn4P3k",
    "jupyter": {
     "is_executing": true
    }
   },
   "outputs": [
    {
     "data": {
      "text/plain": [
       "array([ 0,  1,  2,  3,  4,  5,  6,  7,  8,  9, 10, 11, 12, 13, 14, 15, 16,\n",
       "       17, 18, 19, 20, 21, 22, 23, 24, 26, 27, 28, 29, 30, 31, 32, 33, 35,\n",
       "       36, 38, 39, 40, 41, 42, 43, 44, 45, 46, 47, 48, 49, 50, 51, 52, 53,\n",
       "       54, 55, 56, 57, 58, 59, 60, 61, 62, 63, 64, 65, 66, 67, 68, 69, 71,\n",
       "       73, 74, 75, 76, 77, 78, 79, 80, 81, 82, 83, 84, 85, 86, 87],\n",
       "      dtype=int64)"
      ]
     },
     "execution_count": 34,
     "metadata": {},
     "output_type": "execute_result"
    }
   ],
   "source": [
    "minV = -10\n",
    "maxV = 10\n",
    "\n",
    "minS = 1\n",
    "maxS = 100\n",
    "\n",
    "# значения от minV до maxV, размер массива - от minS до maxS\n",
    "array = np.random.randint(minV, maxV + 1, np.random.randint(minS, maxS + 1))\n",
    "\n",
    "indices = np.nonzero(array)[0]\n",
    "\n",
    "indices"
   ]
  },
  {
   "cell_type": "markdown",
   "metadata": {
    "id": "ZJWS2wO-3xfn"
   },
   "source": [
    "4. Создайте двумерный массив с единицами на границах и нулями внутри, например:\n",
    "\n",
    "$ 1 1 1 1 1 $\n",
    "\n",
    "$ 1 0 0 0 1 $\n",
    "\n",
    "$ 1 0 0 0 1 $\n",
    "\n",
    "$ 1 1 1 1 1 $\n"
   ]
  },
  {
   "cell_type": "code",
   "execution_count": 13,
   "metadata": {
    "id": "dGfAw9ii5fhJ",
    "jupyter": {
     "is_executing": true
    }
   },
   "outputs": [
    {
     "data": {
      "text/plain": [
       "array([[1, 1, 1, 1, 1],\n",
       "       [1, 0, 0, 0, 1],\n",
       "       [1, 0, 0, 0, 1],\n",
       "       [1, 0, 0, 0, 1],\n",
       "       [1, 0, 0, 0, 1],\n",
       "       [1, 1, 1, 1, 1]])"
      ]
     },
     "execution_count": 13,
     "metadata": {},
     "output_type": "execute_result"
    }
   ],
   "source": [
    "n = 6\n",
    "m = 5\n",
    "\n",
    "array = np.zeros((n, m), int)\n",
    "\n",
    "array[0, :] = 1\n",
    "array[-1, :] = 1\n",
    "array[:, -1] = 1\n",
    "array[:, 0] = 1\n",
    "\n",
    "array"
   ]
  },
  {
   "cell_type": "markdown",
   "metadata": {
    "id": "L8m6wERB4m7_"
   },
   "source": [
    "5. Создайте случайный вектор размером 15 и замените максимальное значение на $NaN$.\n"
   ]
  },
  {
   "cell_type": "code",
   "execution_count": 24,
   "metadata": {
    "id": "-orpyoP14mKS",
    "jupyter": {
     "is_executing": true
    }
   },
   "outputs": [
    {
     "data": {
      "text/plain": [
       "array([13, 11, -17, 10, 'NaN', -3, -7, -18, -6, 8, 11, -5, 6, 12, 13],\n",
       "      dtype=object)"
      ]
     },
     "execution_count": 24,
     "metadata": {},
     "output_type": "execute_result"
    }
   ],
   "source": [
    "minV = -20\n",
    "maxV = 20\n",
    "\n",
    "array = np.random.randint(minV, maxV + 1, 15)\n",
    "\n",
    "array = array.astype(object)\n",
    "array[array == array.max()] = \"NaN\"\n",
    "\n",
    "array"
   ]
  },
  {
   "cell_type": "markdown",
   "metadata": {
    "id": "V5SVMkLv4QOl"
   },
   "source": [
    "6. Рассмотрим массив размерности $(6, 7, 8)$. Каков индекс $(i,j,k)$ 100-го элемента?"
   ]
  },
  {
   "cell_type": "code",
   "execution_count": 13,
   "metadata": {
    "id": "Io3LqADB4oNd",
    "jupyter": {
     "is_executing": true
    }
   },
   "outputs": [
    {
     "data": {
      "text/plain": [
       "(1, 5, 4)"
      ]
     },
     "execution_count": 13,
     "metadata": {},
     "output_type": "execute_result"
    }
   ],
   "source": [
    "dim = (6, 7, 8)\n",
    "ind = 100\n",
    "\n",
    "i, j, k = np.unravel_index(ind, dim)\n",
    "\n",
    "i, j, k"
   ]
  },
  {
   "cell_type": "markdown",
   "metadata": {
    "id": "vTEGupeC4bmb"
   },
   "source": [
    "7. Рассмотрим случайную матрицу  $15 × 2 $, представляющую декартовы координаты, преобразуйте их в полярные координаты."
   ]
  },
  {
   "cell_type": "code",
   "execution_count": 15,
   "metadata": {
    "id": "wJggfH9L4nZ_"
   },
   "outputs": [
    {
     "data": {
      "text/plain": [
       "array([[23.47993358,  0.78788594],\n",
       "       [16.4872883 ,  0.77584928],\n",
       "       [13.12899029,  0.88425759],\n",
       "       [10.31577135,  1.35079233],\n",
       "       [10.53483644,  0.64786785],\n",
       "       [15.55238661,  0.61657906],\n",
       "       [17.2173076 ,  0.5646855 ],\n",
       "       [ 8.39865683,  0.59245701],\n",
       "       [23.21282623,  1.00381798],\n",
       "       [21.08770114,  0.54193403],\n",
       "       [10.65732163,  0.4751422 ],\n",
       "       [22.72123331,  0.7135547 ],\n",
       "       [18.09088796,  0.26858848],\n",
       "       [14.28187194,  1.16551067],\n",
       "       [10.99181439,  1.26424575]])"
      ]
     },
     "execution_count": 15,
     "metadata": {},
     "output_type": "execute_result"
    }
   ],
   "source": [
    "cart = np.random.rand(15, 2) * 20\n",
    "\n",
    "x = cart[:, 0]\n",
    "y = cart[:, 1]\n",
    "\n",
    "r = np.sqrt(x * x + y * y)\n",
    "phi = np.arctan2(y, x)\n",
    "\n",
    "polar = np.column_stack((r, phi))\n",
    "\n",
    "polar"
   ]
  },
  {
   "cell_type": "markdown",
   "metadata": {
    "id": "Y6QOvFAE5Rdo"
   },
   "source": [
    "8. По двум массивам $x$ и $y$ постройте матрицу Коши $C$\n",
    " $(C_{ij} =\\frac{1}{x_i - y_j})$"
   ]
  },
  {
   "cell_type": "code",
   "execution_count": 19,
   "metadata": {
    "id": "VrMhqaTg5Rvv"
   },
   "outputs": [
    {
     "data": {
      "text/plain": [
       "array([[-0.16666667,  1.        , -1.        , -0.5       ],\n",
       "       [-0.33333333,  0.25      ,  0.5       ,  1.        ],\n",
       "       [-1.        ,  0.16666667,  0.25      ,  0.33333333]])"
      ]
     },
     "execution_count": 19,
     "metadata": {},
     "output_type": "execute_result"
    }
   ],
   "source": [
    "x = np.array([3, 6, 8])\n",
    "y = np.array([9, 2, 4, 5])\n",
    "\n",
    "C = 1 / (x[:, np.newaxis] - y[np.newaxis, :])\n",
    "\n",
    "C"
   ]
  },
  {
   "cell_type": "markdown",
   "metadata": {
    "id": "clAXzbii4wA3"
   },
   "source": [
    "9. Рассмотрим матрицу $10 × 3 $, извлеките строки с неравными значениями (например, $[2,2,3]$)."
   ]
  },
  {
   "cell_type": "code",
   "execution_count": 23,
   "metadata": {
    "id": "97jD43Gl4wbx"
   },
   "outputs": [
    {
     "data": {
      "text/plain": [
       "array([[2, 3, 0],\n",
       "       [2, 0, 2],\n",
       "       [1, 2, 1],\n",
       "       [2, 4, 0],\n",
       "       [4, 2, 4],\n",
       "       [4, 2, 2],\n",
       "       [2, 0, 1],\n",
       "       [0, 2, 3],\n",
       "       [3, 4, 4]])"
      ]
     },
     "execution_count": 23,
     "metadata": {},
     "output_type": "execute_result"
    }
   ],
   "source": [
    "matrix = np.random.randint(0, 5, (10, 3))\n",
    "matrix[0] = (1, 1, 1)\n",
    "\n",
    "rows = matrix[np.apply_along_axis(lambda row: len(np.unique(row)) in {2, 3}, 1, matrix)]\n",
    "\n",
    "rows"
   ]
  },
  {
   "cell_type": "markdown",
   "metadata": {
    "id": "3dVmnyBLxuUP"
   },
   "source": [
    "10. Извлеките уникальные строки из двумерного массива.\n"
   ]
  },
  {
   "cell_type": "code",
   "execution_count": 25,
   "metadata": {
    "id": "yWdTK_orxtx0"
   },
   "outputs": [
    {
     "data": {
      "text/plain": [
       "array([[0, 2],\n",
       "       [0, 3],\n",
       "       [1, 4],\n",
       "       [1, 5],\n",
       "       [2, 0],\n",
       "       [2, 1],\n",
       "       [3, 0],\n",
       "       [5, 3]])"
      ]
     },
     "execution_count": 25,
     "metadata": {},
     "output_type": "execute_result"
    }
   ],
   "source": [
    "matrix = np.random.randint(0, 6, (10, 2))\n",
    "matrix[1] = (1, 1)\n",
    "matrix[2] = (1, 1)\n",
    "\n",
    "rows, counts = np.unique(matrix, axis=0, return_counts=True)\n",
    "\n",
    "unique_rows = rows[counts == 1]\n",
    "\n",
    "unique_rows"
   ]
  },
  {
   "cell_type": "markdown",
   "metadata": {
    "id": "ehaTVnKIyufu"
   },
   "source": [
    "# 2. Pandas\n",
    "\n",
    "# Найдите ответы на вопросы с помощью предложенного датасета - olympics_dataset.csv:\n",
    "\n",
    "player_id - id участника\\\n",
    "Name - имя участника\\\n",
    "Sex - пол участника, M (Male) или F (Female)\\\n",
    "Team - представляемая команда, объединённая или национальная (China, Denmark, Denmark/Sweden и т.п)\\\n",
    "NOC - сокращенное название страны участника (CHN, DEN, ITA и т.п.)\\\n",
    "Year - год участия в олимпийских играх\\\n",
    "Season - сезон проведения олимпийских игр (Summer или Winter)\\\n",
    "City - город проведения игр\\\n",
    "Sport - вид спорта участника (Football, Basketball, Athletics и т.п.)\\\n",
    "Event - состязание, в котором принималось участие\\\n",
    "Medal - вид полученной медали или её отсутствие (Gold, Silver, Bronze, No medal)"
   ]
  },
  {
   "cell_type": "markdown",
   "metadata": {
    "id": "h7NfRLCpFec1"
   },
   "source": [
    "Файл с датасетом - `olympics_dataset.csv`"
   ]
  },
  {
   "cell_type": "code",
   "execution_count": 3,
   "metadata": {},
   "outputs": [],
   "source": [
    "import pandas as pd"
   ]
  },
  {
   "cell_type": "code",
   "execution_count": 6,
   "metadata": {},
   "outputs": [
    {
     "data": {
      "text/html": [
       "<div>\n",
       "<style scoped>\n",
       "    .dataframe tbody tr th:only-of-type {\n",
       "        vertical-align: middle;\n",
       "    }\n",
       "\n",
       "    .dataframe tbody tr th {\n",
       "        vertical-align: top;\n",
       "    }\n",
       "\n",
       "    .dataframe thead th {\n",
       "        text-align: right;\n",
       "    }\n",
       "</style>\n",
       "<table border=\"1\" class=\"dataframe\">\n",
       "  <thead>\n",
       "    <tr style=\"text-align: right;\">\n",
       "      <th></th>\n",
       "      <th>player_id</th>\n",
       "      <th>Name</th>\n",
       "      <th>Sex</th>\n",
       "      <th>Team</th>\n",
       "      <th>NOC</th>\n",
       "      <th>Year</th>\n",
       "      <th>Season</th>\n",
       "      <th>City</th>\n",
       "      <th>Sport</th>\n",
       "      <th>Event</th>\n",
       "      <th>Medal</th>\n",
       "    </tr>\n",
       "  </thead>\n",
       "  <tbody>\n",
       "    <tr>\n",
       "      <th>0</th>\n",
       "      <td>0</td>\n",
       "      <td>A Dijiang</td>\n",
       "      <td>M</td>\n",
       "      <td>China</td>\n",
       "      <td>CHN</td>\n",
       "      <td>1992</td>\n",
       "      <td>Summer</td>\n",
       "      <td>Barcelona</td>\n",
       "      <td>Basketball</td>\n",
       "      <td>Basketball Men's Basketball</td>\n",
       "      <td>No medal</td>\n",
       "    </tr>\n",
       "    <tr>\n",
       "      <th>1</th>\n",
       "      <td>1</td>\n",
       "      <td>A Lamusi</td>\n",
       "      <td>M</td>\n",
       "      <td>China</td>\n",
       "      <td>CHN</td>\n",
       "      <td>2012</td>\n",
       "      <td>Summer</td>\n",
       "      <td>London</td>\n",
       "      <td>Judo</td>\n",
       "      <td>Judo Men's Extra-Lightweight</td>\n",
       "      <td>No medal</td>\n",
       "    </tr>\n",
       "    <tr>\n",
       "      <th>2</th>\n",
       "      <td>2</td>\n",
       "      <td>Gunnar Aaby</td>\n",
       "      <td>M</td>\n",
       "      <td>Denmark</td>\n",
       "      <td>DEN</td>\n",
       "      <td>1920</td>\n",
       "      <td>Summer</td>\n",
       "      <td>Antwerpen</td>\n",
       "      <td>Football</td>\n",
       "      <td>Football Men's Football</td>\n",
       "      <td>No medal</td>\n",
       "    </tr>\n",
       "    <tr>\n",
       "      <th>3</th>\n",
       "      <td>3</td>\n",
       "      <td>Edgar Aabye</td>\n",
       "      <td>M</td>\n",
       "      <td>Denmark/Sweden</td>\n",
       "      <td>DEN</td>\n",
       "      <td>1900</td>\n",
       "      <td>Summer</td>\n",
       "      <td>Paris</td>\n",
       "      <td>Tug-Of-War</td>\n",
       "      <td>Tug-Of-War Men's Tug-Of-War</td>\n",
       "      <td>Gold</td>\n",
       "    </tr>\n",
       "    <tr>\n",
       "      <th>4</th>\n",
       "      <td>26</td>\n",
       "      <td>Cornelia (-strannood)</td>\n",
       "      <td>F</td>\n",
       "      <td>Netherlands</td>\n",
       "      <td>NED</td>\n",
       "      <td>1932</td>\n",
       "      <td>Summer</td>\n",
       "      <td>Los Angeles</td>\n",
       "      <td>Athletics</td>\n",
       "      <td>Athletics Women's 100 metres</td>\n",
       "      <td>No medal</td>\n",
       "    </tr>\n",
       "    <tr>\n",
       "      <th>...</th>\n",
       "      <td>...</td>\n",
       "      <td>...</td>\n",
       "      <td>...</td>\n",
       "      <td>...</td>\n",
       "      <td>...</td>\n",
       "      <td>...</td>\n",
       "      <td>...</td>\n",
       "      <td>...</td>\n",
       "      <td>...</td>\n",
       "      <td>...</td>\n",
       "      <td>...</td>\n",
       "    </tr>\n",
       "    <tr>\n",
       "      <th>252560</th>\n",
       "      <td>4986655</td>\n",
       "      <td>Sefora Ada</td>\n",
       "      <td>F</td>\n",
       "      <td>Equatorial Guinea</td>\n",
       "      <td>GEQ</td>\n",
       "      <td>2024</td>\n",
       "      <td>Summer</td>\n",
       "      <td>Paris</td>\n",
       "      <td>Athletics</td>\n",
       "      <td>Women's 100m</td>\n",
       "      <td>No medal</td>\n",
       "    </tr>\n",
       "    <tr>\n",
       "      <th>252561</th>\n",
       "      <td>9460001</td>\n",
       "      <td>Emanuela Liuzzi</td>\n",
       "      <td>F</td>\n",
       "      <td>Italy</td>\n",
       "      <td>ITA</td>\n",
       "      <td>2024</td>\n",
       "      <td>Summer</td>\n",
       "      <td>Paris</td>\n",
       "      <td>Wrestling</td>\n",
       "      <td>Women's Freestyle 50kg</td>\n",
       "      <td>No medal</td>\n",
       "    </tr>\n",
       "    <tr>\n",
       "      <th>252562</th>\n",
       "      <td>1972077</td>\n",
       "      <td>Isayah Boers</td>\n",
       "      <td>M</td>\n",
       "      <td>Netherlands</td>\n",
       "      <td>NED</td>\n",
       "      <td>2024</td>\n",
       "      <td>Summer</td>\n",
       "      <td>Paris</td>\n",
       "      <td>Athletics</td>\n",
       "      <td>4 x 400m Relay Mixed</td>\n",
       "      <td>Gold</td>\n",
       "    </tr>\n",
       "    <tr>\n",
       "      <th>252563</th>\n",
       "      <td>1899865</td>\n",
       "      <td>Kevin Staut</td>\n",
       "      <td>M</td>\n",
       "      <td>France</td>\n",
       "      <td>FRA</td>\n",
       "      <td>2024</td>\n",
       "      <td>Summer</td>\n",
       "      <td>Paris</td>\n",
       "      <td>Equestrian</td>\n",
       "      <td>Jumping Team</td>\n",
       "      <td>Bronze</td>\n",
       "    </tr>\n",
       "    <tr>\n",
       "      <th>252564</th>\n",
       "      <td>1924402</td>\n",
       "      <td>Charlie Carvell</td>\n",
       "      <td>M</td>\n",
       "      <td>Great Britain</td>\n",
       "      <td>GBR</td>\n",
       "      <td>2024</td>\n",
       "      <td>Summer</td>\n",
       "      <td>Paris</td>\n",
       "      <td>Athletics</td>\n",
       "      <td>Men's 4 x 400m Relay</td>\n",
       "      <td>Bronze</td>\n",
       "    </tr>\n",
       "  </tbody>\n",
       "</table>\n",
       "<p>252565 rows × 11 columns</p>\n",
       "</div>"
      ],
      "text/plain": [
       "        player_id                   Name Sex               Team  NOC  Year  \\\n",
       "0               0              A Dijiang   M              China  CHN  1992   \n",
       "1               1               A Lamusi   M              China  CHN  2012   \n",
       "2               2            Gunnar Aaby   M            Denmark  DEN  1920   \n",
       "3               3            Edgar Aabye   M     Denmark/Sweden  DEN  1900   \n",
       "4              26  Cornelia (-strannood)   F        Netherlands  NED  1932   \n",
       "...           ...                    ...  ..                ...  ...   ...   \n",
       "252560    4986655             Sefora Ada   F  Equatorial Guinea  GEQ  2024   \n",
       "252561    9460001        Emanuela Liuzzi   F              Italy  ITA  2024   \n",
       "252562    1972077           Isayah Boers   M        Netherlands  NED  2024   \n",
       "252563    1899865            Kevin Staut   M             France  FRA  2024   \n",
       "252564    1924402        Charlie Carvell   M      Great Britain  GBR  2024   \n",
       "\n",
       "        Season         City       Sport                         Event  \\\n",
       "0       Summer    Barcelona  Basketball   Basketball Men's Basketball   \n",
       "1       Summer       London        Judo  Judo Men's Extra-Lightweight   \n",
       "2       Summer    Antwerpen    Football       Football Men's Football   \n",
       "3       Summer        Paris  Tug-Of-War   Tug-Of-War Men's Tug-Of-War   \n",
       "4       Summer  Los Angeles   Athletics  Athletics Women's 100 metres   \n",
       "...        ...          ...         ...                           ...   \n",
       "252560  Summer        Paris   Athletics                  Women's 100m   \n",
       "252561  Summer        Paris   Wrestling        Women's Freestyle 50kg   \n",
       "252562  Summer        Paris   Athletics          4 x 400m Relay Mixed   \n",
       "252563  Summer        Paris  Equestrian                  Jumping Team   \n",
       "252564  Summer        Paris   Athletics          Men's 4 x 400m Relay   \n",
       "\n",
       "           Medal  \n",
       "0       No medal  \n",
       "1       No medal  \n",
       "2       No medal  \n",
       "3           Gold  \n",
       "4       No medal  \n",
       "...          ...  \n",
       "252560  No medal  \n",
       "252561  No medal  \n",
       "252562      Gold  \n",
       "252563    Bronze  \n",
       "252564    Bronze  \n",
       "\n",
       "[252565 rows x 11 columns]"
      ]
     },
     "execution_count": 6,
     "metadata": {},
     "output_type": "execute_result"
    }
   ],
   "source": [
    "data = pd.read_csv('olympics_dataset.csv')\n",
    "\n",
    "data"
   ]
  },
  {
   "cell_type": "markdown",
   "metadata": {
    "id": "fuOEjaSBzJMn"
   },
   "source": [
    "1. Сколько спортсменов участвовали в Летних Олимпийских играх за всё время?"
   ]
  },
  {
   "cell_type": "code",
   "execution_count": 39,
   "metadata": {
    "id": "W0NVQaWEzcrj"
   },
   "outputs": [
    {
     "data": {
      "text/plain": [
       "129992"
      ]
     },
     "execution_count": 39,
     "metadata": {},
     "output_type": "execute_result"
    }
   ],
   "source": [
    "unique_count = data['Name'].nunique() # почему player_id не уникален @_@\n",
    "\n",
    "unique_count"
   ]
  },
  {
   "cell_type": "markdown",
   "metadata": {
    "id": "NgqBXyjAzdC1"
   },
   "source": [
    "2. Найдите участника с наибольшим количеством медалей"
   ]
  },
  {
   "cell_type": "code",
   "execution_count": 16,
   "metadata": {
    "id": "_BgXSSrAzgJr"
   },
   "outputs": [
    {
     "data": {
      "text/html": [
       "<div>\n",
       "<style scoped>\n",
       "    .dataframe tbody tr th:only-of-type {\n",
       "        vertical-align: middle;\n",
       "    }\n",
       "\n",
       "    .dataframe tbody tr th {\n",
       "        vertical-align: top;\n",
       "    }\n",
       "\n",
       "    .dataframe thead th {\n",
       "        text-align: right;\n",
       "    }\n",
       "</style>\n",
       "<table border=\"1\" class=\"dataframe\">\n",
       "  <thead>\n",
       "    <tr style=\"text-align: right;\">\n",
       "      <th></th>\n",
       "      <th>player_id</th>\n",
       "      <th>Name</th>\n",
       "      <th>Sex</th>\n",
       "      <th>Team</th>\n",
       "      <th>NOC</th>\n",
       "      <th>Year</th>\n",
       "      <th>Season</th>\n",
       "      <th>City</th>\n",
       "      <th>Sport</th>\n",
       "      <th>Event</th>\n",
       "      <th>Medal</th>\n",
       "    </tr>\n",
       "  </thead>\n",
       "  <tbody>\n",
       "    <tr>\n",
       "      <th>3</th>\n",
       "      <td>3</td>\n",
       "      <td>Edgar Aabye</td>\n",
       "      <td>M</td>\n",
       "      <td>Denmark/Sweden</td>\n",
       "      <td>DEN</td>\n",
       "      <td>1900</td>\n",
       "      <td>Summer</td>\n",
       "      <td>Paris</td>\n",
       "      <td>Tug-Of-War</td>\n",
       "      <td>Tug-Of-War Men's Tug-Of-War</td>\n",
       "      <td>Gold</td>\n",
       "    </tr>\n",
       "    <tr>\n",
       "      <th>12</th>\n",
       "      <td>37</td>\n",
       "      <td>Arvo Aaltonen</td>\n",
       "      <td>M</td>\n",
       "      <td>Finland</td>\n",
       "      <td>FIN</td>\n",
       "      <td>1920</td>\n",
       "      <td>Summer</td>\n",
       "      <td>Antwerpen</td>\n",
       "      <td>Swimming</td>\n",
       "      <td>Swimming Men's 200 metres Breaststroke</td>\n",
       "      <td>Bronze</td>\n",
       "    </tr>\n",
       "    <tr>\n",
       "      <th>13</th>\n",
       "      <td>38</td>\n",
       "      <td>Arvo Aaltonen</td>\n",
       "      <td>M</td>\n",
       "      <td>Finland</td>\n",
       "      <td>FIN</td>\n",
       "      <td>1920</td>\n",
       "      <td>Summer</td>\n",
       "      <td>Antwerpen</td>\n",
       "      <td>Swimming</td>\n",
       "      <td>Swimming Men's 400 metres Breaststroke</td>\n",
       "      <td>Bronze</td>\n",
       "    </tr>\n",
       "    <tr>\n",
       "      <th>15</th>\n",
       "      <td>41</td>\n",
       "      <td>Paavo Aaltonen</td>\n",
       "      <td>M</td>\n",
       "      <td>Finland</td>\n",
       "      <td>FIN</td>\n",
       "      <td>1948</td>\n",
       "      <td>Summer</td>\n",
       "      <td>London</td>\n",
       "      <td>Gymnastics</td>\n",
       "      <td>Gymnastics Men's Individual All-Around</td>\n",
       "      <td>Bronze</td>\n",
       "    </tr>\n",
       "    <tr>\n",
       "      <th>16</th>\n",
       "      <td>42</td>\n",
       "      <td>Paavo Aaltonen</td>\n",
       "      <td>M</td>\n",
       "      <td>Finland</td>\n",
       "      <td>FIN</td>\n",
       "      <td>1948</td>\n",
       "      <td>Summer</td>\n",
       "      <td>London</td>\n",
       "      <td>Gymnastics</td>\n",
       "      <td>Gymnastics Men's Team All-Around</td>\n",
       "      <td>Gold</td>\n",
       "    </tr>\n",
       "    <tr>\n",
       "      <th>...</th>\n",
       "      <td>...</td>\n",
       "      <td>...</td>\n",
       "      <td>...</td>\n",
       "      <td>...</td>\n",
       "      <td>...</td>\n",
       "      <td>...</td>\n",
       "      <td>...</td>\n",
       "      <td>...</td>\n",
       "      <td>...</td>\n",
       "      <td>...</td>\n",
       "      <td>...</td>\n",
       "    </tr>\n",
       "    <tr>\n",
       "      <th>252551</th>\n",
       "      <td>4979564</td>\n",
       "      <td>Quincy Wilson</td>\n",
       "      <td>M</td>\n",
       "      <td>United States</td>\n",
       "      <td>USA</td>\n",
       "      <td>2024</td>\n",
       "      <td>Summer</td>\n",
       "      <td>Paris</td>\n",
       "      <td>Athletics</td>\n",
       "      <td>4 x 400m Relay Mixed</td>\n",
       "      <td>Silver</td>\n",
       "    </tr>\n",
       "    <tr>\n",
       "      <th>252556</th>\n",
       "      <td>4980004</td>\n",
       "      <td>van Anne</td>\n",
       "      <td>F</td>\n",
       "      <td>Netherlands</td>\n",
       "      <td>NED</td>\n",
       "      <td>2024</td>\n",
       "      <td>Summer</td>\n",
       "      <td>Paris</td>\n",
       "      <td>Athletics</td>\n",
       "      <td>Women's 4 x 400m Relay</td>\n",
       "      <td>Silver</td>\n",
       "    </tr>\n",
       "    <tr>\n",
       "      <th>252562</th>\n",
       "      <td>1972077</td>\n",
       "      <td>Isayah Boers</td>\n",
       "      <td>M</td>\n",
       "      <td>Netherlands</td>\n",
       "      <td>NED</td>\n",
       "      <td>2024</td>\n",
       "      <td>Summer</td>\n",
       "      <td>Paris</td>\n",
       "      <td>Athletics</td>\n",
       "      <td>4 x 400m Relay Mixed</td>\n",
       "      <td>Gold</td>\n",
       "    </tr>\n",
       "    <tr>\n",
       "      <th>252563</th>\n",
       "      <td>1899865</td>\n",
       "      <td>Kevin Staut</td>\n",
       "      <td>M</td>\n",
       "      <td>France</td>\n",
       "      <td>FRA</td>\n",
       "      <td>2024</td>\n",
       "      <td>Summer</td>\n",
       "      <td>Paris</td>\n",
       "      <td>Equestrian</td>\n",
       "      <td>Jumping Team</td>\n",
       "      <td>Bronze</td>\n",
       "    </tr>\n",
       "    <tr>\n",
       "      <th>252564</th>\n",
       "      <td>1924402</td>\n",
       "      <td>Charlie Carvell</td>\n",
       "      <td>M</td>\n",
       "      <td>Great Britain</td>\n",
       "      <td>GBR</td>\n",
       "      <td>2024</td>\n",
       "      <td>Summer</td>\n",
       "      <td>Paris</td>\n",
       "      <td>Athletics</td>\n",
       "      <td>Men's 4 x 400m Relay</td>\n",
       "      <td>Bronze</td>\n",
       "    </tr>\n",
       "  </tbody>\n",
       "</table>\n",
       "<p>38818 rows × 11 columns</p>\n",
       "</div>"
      ],
      "text/plain": [
       "        player_id             Name Sex            Team  NOC  Year  Season  \\\n",
       "3               3      Edgar Aabye   M  Denmark/Sweden  DEN  1900  Summer   \n",
       "12             37    Arvo Aaltonen   M         Finland  FIN  1920  Summer   \n",
       "13             38    Arvo Aaltonen   M         Finland  FIN  1920  Summer   \n",
       "15             41   Paavo Aaltonen   M         Finland  FIN  1948  Summer   \n",
       "16             42   Paavo Aaltonen   M         Finland  FIN  1948  Summer   \n",
       "...           ...              ...  ..             ...  ...   ...     ...   \n",
       "252551    4979564    Quincy Wilson   M   United States  USA  2024  Summer   \n",
       "252556    4980004         van Anne   F     Netherlands  NED  2024  Summer   \n",
       "252562    1972077     Isayah Boers   M     Netherlands  NED  2024  Summer   \n",
       "252563    1899865      Kevin Staut   M          France  FRA  2024  Summer   \n",
       "252564    1924402  Charlie Carvell   M   Great Britain  GBR  2024  Summer   \n",
       "\n",
       "             City       Sport                                   Event   Medal  \n",
       "3           Paris  Tug-Of-War             Tug-Of-War Men's Tug-Of-War    Gold  \n",
       "12      Antwerpen    Swimming  Swimming Men's 200 metres Breaststroke  Bronze  \n",
       "13      Antwerpen    Swimming  Swimming Men's 400 metres Breaststroke  Bronze  \n",
       "15         London  Gymnastics  Gymnastics Men's Individual All-Around  Bronze  \n",
       "16         London  Gymnastics        Gymnastics Men's Team All-Around    Gold  \n",
       "...           ...         ...                                     ...     ...  \n",
       "252551      Paris   Athletics                    4 x 400m Relay Mixed  Silver  \n",
       "252556      Paris   Athletics                  Women's 4 x 400m Relay  Silver  \n",
       "252562      Paris   Athletics                    4 x 400m Relay Mixed    Gold  \n",
       "252563      Paris  Equestrian                            Jumping Team  Bronze  \n",
       "252564      Paris   Athletics                    Men's 4 x 400m Relay  Bronze  \n",
       "\n",
       "[38818 rows x 11 columns]"
      ]
     },
     "execution_count": 16,
     "metadata": {},
     "output_type": "execute_result"
    }
   ],
   "source": [
    "medals = data.loc[data['Medal'] != 'No medal']\n",
    "\n",
    "medals"
   ]
  },
  {
   "cell_type": "code",
   "execution_count": 18,
   "metadata": {},
   "outputs": [
    {
     "data": {
      "text/plain": [
       "Name\n",
       "671            1\n",
       "A Luypaert     1\n",
       "A'ja Wilson    2\n",
       "A. Albert      1\n",
       "A. Dubois      2\n",
       "              ..\n",
       "van Tony       1\n",
       "van Wout       2\n",
       "ver Banega     1\n",
       "von Henrik     1\n",
       "von Jessica    4\n",
       "Name: Medal, Length: 27723, dtype: int64"
      ]
     },
     "execution_count": 18,
     "metadata": {},
     "output_type": "execute_result"
    }
   ],
   "source": [
    "medals_count = medals.groupby('Name')['Medal'].count()\n",
    "\n",
    "medals_count"
   ]
  },
  {
   "cell_type": "code",
   "execution_count": 32,
   "metadata": {},
   "outputs": [
    {
     "data": {
      "text/html": [
       "<div>\n",
       "<style scoped>\n",
       "    .dataframe tbody tr th:only-of-type {\n",
       "        vertical-align: middle;\n",
       "    }\n",
       "\n",
       "    .dataframe tbody tr th {\n",
       "        vertical-align: top;\n",
       "    }\n",
       "\n",
       "    .dataframe thead th {\n",
       "        text-align: right;\n",
       "    }\n",
       "</style>\n",
       "<table border=\"1\" class=\"dataframe\">\n",
       "  <thead>\n",
       "    <tr style=\"text-align: right;\">\n",
       "      <th></th>\n",
       "      <th>player_id</th>\n",
       "      <th>Name</th>\n",
       "      <th>Sex</th>\n",
       "      <th>Team</th>\n",
       "      <th>NOC</th>\n",
       "      <th>Year</th>\n",
       "      <th>Season</th>\n",
       "      <th>City</th>\n",
       "      <th>Sport</th>\n",
       "      <th>Event</th>\n",
       "      <th>Medal</th>\n",
       "    </tr>\n",
       "  </thead>\n",
       "  <tbody>\n",
       "    <tr>\n",
       "      <th>154669</th>\n",
       "      <td>187887</td>\n",
       "      <td>Michael Ii</td>\n",
       "      <td>M</td>\n",
       "      <td>United States</td>\n",
       "      <td>USA</td>\n",
       "      <td>2000</td>\n",
       "      <td>Summer</td>\n",
       "      <td>Sydney</td>\n",
       "      <td>Swimming</td>\n",
       "      <td>Swimming Men's 200 metres Butterfly</td>\n",
       "      <td>No medal</td>\n",
       "    </tr>\n",
       "    <tr>\n",
       "      <th>154670</th>\n",
       "      <td>187888</td>\n",
       "      <td>Michael Ii</td>\n",
       "      <td>M</td>\n",
       "      <td>United States</td>\n",
       "      <td>USA</td>\n",
       "      <td>2004</td>\n",
       "      <td>Summer</td>\n",
       "      <td>Athina</td>\n",
       "      <td>Swimming</td>\n",
       "      <td>Swimming Men's 200 metres Freestyle</td>\n",
       "      <td>Bronze</td>\n",
       "    </tr>\n",
       "    <tr>\n",
       "      <th>154671</th>\n",
       "      <td>187889</td>\n",
       "      <td>Michael Ii</td>\n",
       "      <td>M</td>\n",
       "      <td>United States</td>\n",
       "      <td>USA</td>\n",
       "      <td>2004</td>\n",
       "      <td>Summer</td>\n",
       "      <td>Athina</td>\n",
       "      <td>Swimming</td>\n",
       "      <td>Swimming Men's 4 x 100 metres Freestyle Relay</td>\n",
       "      <td>Bronze</td>\n",
       "    </tr>\n",
       "    <tr>\n",
       "      <th>154672</th>\n",
       "      <td>187890</td>\n",
       "      <td>Michael Ii</td>\n",
       "      <td>M</td>\n",
       "      <td>United States</td>\n",
       "      <td>USA</td>\n",
       "      <td>2004</td>\n",
       "      <td>Summer</td>\n",
       "      <td>Athina</td>\n",
       "      <td>Swimming</td>\n",
       "      <td>Swimming Men's 4 x 200 metres Freestyle Relay</td>\n",
       "      <td>Gold</td>\n",
       "    </tr>\n",
       "    <tr>\n",
       "      <th>154673</th>\n",
       "      <td>187891</td>\n",
       "      <td>Michael Ii</td>\n",
       "      <td>M</td>\n",
       "      <td>United States</td>\n",
       "      <td>USA</td>\n",
       "      <td>2004</td>\n",
       "      <td>Summer</td>\n",
       "      <td>Athina</td>\n",
       "      <td>Swimming</td>\n",
       "      <td>Swimming Men's 100 metres Butterfly</td>\n",
       "      <td>Gold</td>\n",
       "    </tr>\n",
       "    <tr>\n",
       "      <th>154674</th>\n",
       "      <td>187892</td>\n",
       "      <td>Michael Ii</td>\n",
       "      <td>M</td>\n",
       "      <td>United States</td>\n",
       "      <td>USA</td>\n",
       "      <td>2004</td>\n",
       "      <td>Summer</td>\n",
       "      <td>Athina</td>\n",
       "      <td>Swimming</td>\n",
       "      <td>Swimming Men's 200 metres Butterfly</td>\n",
       "      <td>Gold</td>\n",
       "    </tr>\n",
       "    <tr>\n",
       "      <th>154675</th>\n",
       "      <td>187893</td>\n",
       "      <td>Michael Ii</td>\n",
       "      <td>M</td>\n",
       "      <td>United States</td>\n",
       "      <td>USA</td>\n",
       "      <td>2004</td>\n",
       "      <td>Summer</td>\n",
       "      <td>Athina</td>\n",
       "      <td>Swimming</td>\n",
       "      <td>Swimming Men's 200 metres Individual Medley</td>\n",
       "      <td>Gold</td>\n",
       "    </tr>\n",
       "    <tr>\n",
       "      <th>154676</th>\n",
       "      <td>187894</td>\n",
       "      <td>Michael Ii</td>\n",
       "      <td>M</td>\n",
       "      <td>United States</td>\n",
       "      <td>USA</td>\n",
       "      <td>2004</td>\n",
       "      <td>Summer</td>\n",
       "      <td>Athina</td>\n",
       "      <td>Swimming</td>\n",
       "      <td>Swimming Men's 400 metres Individual Medley</td>\n",
       "      <td>Gold</td>\n",
       "    </tr>\n",
       "    <tr>\n",
       "      <th>154677</th>\n",
       "      <td>187895</td>\n",
       "      <td>Michael Ii</td>\n",
       "      <td>M</td>\n",
       "      <td>United States</td>\n",
       "      <td>USA</td>\n",
       "      <td>2004</td>\n",
       "      <td>Summer</td>\n",
       "      <td>Athina</td>\n",
       "      <td>Swimming</td>\n",
       "      <td>Swimming Men's 4 x 100 metres Medley Relay</td>\n",
       "      <td>Gold</td>\n",
       "    </tr>\n",
       "    <tr>\n",
       "      <th>154678</th>\n",
       "      <td>187896</td>\n",
       "      <td>Michael Ii</td>\n",
       "      <td>M</td>\n",
       "      <td>United States</td>\n",
       "      <td>USA</td>\n",
       "      <td>2008</td>\n",
       "      <td>Summer</td>\n",
       "      <td>Beijing</td>\n",
       "      <td>Swimming</td>\n",
       "      <td>Swimming Men's 200 metres Freestyle</td>\n",
       "      <td>Gold</td>\n",
       "    </tr>\n",
       "    <tr>\n",
       "      <th>154679</th>\n",
       "      <td>187897</td>\n",
       "      <td>Michael Ii</td>\n",
       "      <td>M</td>\n",
       "      <td>United States</td>\n",
       "      <td>USA</td>\n",
       "      <td>2008</td>\n",
       "      <td>Summer</td>\n",
       "      <td>Beijing</td>\n",
       "      <td>Swimming</td>\n",
       "      <td>Swimming Men's 4 x 100 metres Freestyle Relay</td>\n",
       "      <td>Gold</td>\n",
       "    </tr>\n",
       "    <tr>\n",
       "      <th>154680</th>\n",
       "      <td>187898</td>\n",
       "      <td>Michael Ii</td>\n",
       "      <td>M</td>\n",
       "      <td>United States</td>\n",
       "      <td>USA</td>\n",
       "      <td>2008</td>\n",
       "      <td>Summer</td>\n",
       "      <td>Beijing</td>\n",
       "      <td>Swimming</td>\n",
       "      <td>Swimming Men's 4 x 200 metres Freestyle Relay</td>\n",
       "      <td>Gold</td>\n",
       "    </tr>\n",
       "    <tr>\n",
       "      <th>154681</th>\n",
       "      <td>187899</td>\n",
       "      <td>Michael Ii</td>\n",
       "      <td>M</td>\n",
       "      <td>United States</td>\n",
       "      <td>USA</td>\n",
       "      <td>2008</td>\n",
       "      <td>Summer</td>\n",
       "      <td>Beijing</td>\n",
       "      <td>Swimming</td>\n",
       "      <td>Swimming Men's 100 metres Butterfly</td>\n",
       "      <td>Gold</td>\n",
       "    </tr>\n",
       "    <tr>\n",
       "      <th>154682</th>\n",
       "      <td>187900</td>\n",
       "      <td>Michael Ii</td>\n",
       "      <td>M</td>\n",
       "      <td>United States</td>\n",
       "      <td>USA</td>\n",
       "      <td>2008</td>\n",
       "      <td>Summer</td>\n",
       "      <td>Beijing</td>\n",
       "      <td>Swimming</td>\n",
       "      <td>Swimming Men's 200 metres Butterfly</td>\n",
       "      <td>Gold</td>\n",
       "    </tr>\n",
       "    <tr>\n",
       "      <th>154683</th>\n",
       "      <td>187901</td>\n",
       "      <td>Michael Ii</td>\n",
       "      <td>M</td>\n",
       "      <td>United States</td>\n",
       "      <td>USA</td>\n",
       "      <td>2008</td>\n",
       "      <td>Summer</td>\n",
       "      <td>Beijing</td>\n",
       "      <td>Swimming</td>\n",
       "      <td>Swimming Men's 200 metres Individual Medley</td>\n",
       "      <td>Gold</td>\n",
       "    </tr>\n",
       "    <tr>\n",
       "      <th>154684</th>\n",
       "      <td>187902</td>\n",
       "      <td>Michael Ii</td>\n",
       "      <td>M</td>\n",
       "      <td>United States</td>\n",
       "      <td>USA</td>\n",
       "      <td>2008</td>\n",
       "      <td>Summer</td>\n",
       "      <td>Beijing</td>\n",
       "      <td>Swimming</td>\n",
       "      <td>Swimming Men's 400 metres Individual Medley</td>\n",
       "      <td>Gold</td>\n",
       "    </tr>\n",
       "    <tr>\n",
       "      <th>154685</th>\n",
       "      <td>187903</td>\n",
       "      <td>Michael Ii</td>\n",
       "      <td>M</td>\n",
       "      <td>United States</td>\n",
       "      <td>USA</td>\n",
       "      <td>2008</td>\n",
       "      <td>Summer</td>\n",
       "      <td>Beijing</td>\n",
       "      <td>Swimming</td>\n",
       "      <td>Swimming Men's 4 x 100 metres Medley Relay</td>\n",
       "      <td>Gold</td>\n",
       "    </tr>\n",
       "    <tr>\n",
       "      <th>154686</th>\n",
       "      <td>187904</td>\n",
       "      <td>Michael Ii</td>\n",
       "      <td>M</td>\n",
       "      <td>United States</td>\n",
       "      <td>USA</td>\n",
       "      <td>2012</td>\n",
       "      <td>Summer</td>\n",
       "      <td>London</td>\n",
       "      <td>Swimming</td>\n",
       "      <td>Swimming Men's 4 x 100 metres Freestyle Relay</td>\n",
       "      <td>Silver</td>\n",
       "    </tr>\n",
       "    <tr>\n",
       "      <th>154687</th>\n",
       "      <td>187905</td>\n",
       "      <td>Michael Ii</td>\n",
       "      <td>M</td>\n",
       "      <td>United States</td>\n",
       "      <td>USA</td>\n",
       "      <td>2012</td>\n",
       "      <td>Summer</td>\n",
       "      <td>London</td>\n",
       "      <td>Swimming</td>\n",
       "      <td>Swimming Men's 4 x 200 metres Freestyle Relay</td>\n",
       "      <td>Gold</td>\n",
       "    </tr>\n",
       "    <tr>\n",
       "      <th>154688</th>\n",
       "      <td>187906</td>\n",
       "      <td>Michael Ii</td>\n",
       "      <td>M</td>\n",
       "      <td>United States</td>\n",
       "      <td>USA</td>\n",
       "      <td>2012</td>\n",
       "      <td>Summer</td>\n",
       "      <td>London</td>\n",
       "      <td>Swimming</td>\n",
       "      <td>Swimming Men's 100 metres Butterfly</td>\n",
       "      <td>Gold</td>\n",
       "    </tr>\n",
       "    <tr>\n",
       "      <th>154689</th>\n",
       "      <td>187907</td>\n",
       "      <td>Michael Ii</td>\n",
       "      <td>M</td>\n",
       "      <td>United States</td>\n",
       "      <td>USA</td>\n",
       "      <td>2012</td>\n",
       "      <td>Summer</td>\n",
       "      <td>London</td>\n",
       "      <td>Swimming</td>\n",
       "      <td>Swimming Men's 200 metres Butterfly</td>\n",
       "      <td>Silver</td>\n",
       "    </tr>\n",
       "    <tr>\n",
       "      <th>154690</th>\n",
       "      <td>187908</td>\n",
       "      <td>Michael Ii</td>\n",
       "      <td>M</td>\n",
       "      <td>United States</td>\n",
       "      <td>USA</td>\n",
       "      <td>2012</td>\n",
       "      <td>Summer</td>\n",
       "      <td>London</td>\n",
       "      <td>Swimming</td>\n",
       "      <td>Swimming Men's 200 metres Individual Medley</td>\n",
       "      <td>Gold</td>\n",
       "    </tr>\n",
       "    <tr>\n",
       "      <th>154691</th>\n",
       "      <td>187909</td>\n",
       "      <td>Michael Ii</td>\n",
       "      <td>M</td>\n",
       "      <td>United States</td>\n",
       "      <td>USA</td>\n",
       "      <td>2012</td>\n",
       "      <td>Summer</td>\n",
       "      <td>London</td>\n",
       "      <td>Swimming</td>\n",
       "      <td>Swimming Men's 400 metres Individual Medley</td>\n",
       "      <td>No medal</td>\n",
       "    </tr>\n",
       "    <tr>\n",
       "      <th>154692</th>\n",
       "      <td>187910</td>\n",
       "      <td>Michael Ii</td>\n",
       "      <td>M</td>\n",
       "      <td>United States</td>\n",
       "      <td>USA</td>\n",
       "      <td>2012</td>\n",
       "      <td>Summer</td>\n",
       "      <td>London</td>\n",
       "      <td>Swimming</td>\n",
       "      <td>Swimming Men's 4 x 100 metres Medley Relay</td>\n",
       "      <td>Gold</td>\n",
       "    </tr>\n",
       "    <tr>\n",
       "      <th>154693</th>\n",
       "      <td>187911</td>\n",
       "      <td>Michael Ii</td>\n",
       "      <td>M</td>\n",
       "      <td>United States</td>\n",
       "      <td>USA</td>\n",
       "      <td>2016</td>\n",
       "      <td>Summer</td>\n",
       "      <td>Rio de Janeiro</td>\n",
       "      <td>Swimming</td>\n",
       "      <td>Swimming Men's 4 x 100 metres Freestyle Relay</td>\n",
       "      <td>Gold</td>\n",
       "    </tr>\n",
       "    <tr>\n",
       "      <th>154694</th>\n",
       "      <td>187912</td>\n",
       "      <td>Michael Ii</td>\n",
       "      <td>M</td>\n",
       "      <td>United States</td>\n",
       "      <td>USA</td>\n",
       "      <td>2016</td>\n",
       "      <td>Summer</td>\n",
       "      <td>Rio de Janeiro</td>\n",
       "      <td>Swimming</td>\n",
       "      <td>Swimming Men's 4 x 200 metres Freestyle Relay</td>\n",
       "      <td>Gold</td>\n",
       "    </tr>\n",
       "    <tr>\n",
       "      <th>154695</th>\n",
       "      <td>187913</td>\n",
       "      <td>Michael Ii</td>\n",
       "      <td>M</td>\n",
       "      <td>United States</td>\n",
       "      <td>USA</td>\n",
       "      <td>2016</td>\n",
       "      <td>Summer</td>\n",
       "      <td>Rio de Janeiro</td>\n",
       "      <td>Swimming</td>\n",
       "      <td>Swimming Men's 100 metres Butterfly</td>\n",
       "      <td>Silver</td>\n",
       "    </tr>\n",
       "    <tr>\n",
       "      <th>154696</th>\n",
       "      <td>187914</td>\n",
       "      <td>Michael Ii</td>\n",
       "      <td>M</td>\n",
       "      <td>United States</td>\n",
       "      <td>USA</td>\n",
       "      <td>2016</td>\n",
       "      <td>Summer</td>\n",
       "      <td>Rio de Janeiro</td>\n",
       "      <td>Swimming</td>\n",
       "      <td>Swimming Men's 200 metres Butterfly</td>\n",
       "      <td>Gold</td>\n",
       "    </tr>\n",
       "    <tr>\n",
       "      <th>154697</th>\n",
       "      <td>187915</td>\n",
       "      <td>Michael Ii</td>\n",
       "      <td>M</td>\n",
       "      <td>United States</td>\n",
       "      <td>USA</td>\n",
       "      <td>2016</td>\n",
       "      <td>Summer</td>\n",
       "      <td>Rio de Janeiro</td>\n",
       "      <td>Swimming</td>\n",
       "      <td>Swimming Men's 200 metres Individual Medley</td>\n",
       "      <td>Gold</td>\n",
       "    </tr>\n",
       "    <tr>\n",
       "      <th>154698</th>\n",
       "      <td>187916</td>\n",
       "      <td>Michael Ii</td>\n",
       "      <td>M</td>\n",
       "      <td>United States</td>\n",
       "      <td>USA</td>\n",
       "      <td>2016</td>\n",
       "      <td>Summer</td>\n",
       "      <td>Rio de Janeiro</td>\n",
       "      <td>Swimming</td>\n",
       "      <td>Swimming Men's 4 x 100 metres Medley Relay</td>\n",
       "      <td>Gold</td>\n",
       "    </tr>\n",
       "  </tbody>\n",
       "</table>\n",
       "</div>"
      ],
      "text/plain": [
       "        player_id        Name Sex           Team  NOC  Year  Season  \\\n",
       "154669     187887  Michael Ii   M  United States  USA  2000  Summer   \n",
       "154670     187888  Michael Ii   M  United States  USA  2004  Summer   \n",
       "154671     187889  Michael Ii   M  United States  USA  2004  Summer   \n",
       "154672     187890  Michael Ii   M  United States  USA  2004  Summer   \n",
       "154673     187891  Michael Ii   M  United States  USA  2004  Summer   \n",
       "154674     187892  Michael Ii   M  United States  USA  2004  Summer   \n",
       "154675     187893  Michael Ii   M  United States  USA  2004  Summer   \n",
       "154676     187894  Michael Ii   M  United States  USA  2004  Summer   \n",
       "154677     187895  Michael Ii   M  United States  USA  2004  Summer   \n",
       "154678     187896  Michael Ii   M  United States  USA  2008  Summer   \n",
       "154679     187897  Michael Ii   M  United States  USA  2008  Summer   \n",
       "154680     187898  Michael Ii   M  United States  USA  2008  Summer   \n",
       "154681     187899  Michael Ii   M  United States  USA  2008  Summer   \n",
       "154682     187900  Michael Ii   M  United States  USA  2008  Summer   \n",
       "154683     187901  Michael Ii   M  United States  USA  2008  Summer   \n",
       "154684     187902  Michael Ii   M  United States  USA  2008  Summer   \n",
       "154685     187903  Michael Ii   M  United States  USA  2008  Summer   \n",
       "154686     187904  Michael Ii   M  United States  USA  2012  Summer   \n",
       "154687     187905  Michael Ii   M  United States  USA  2012  Summer   \n",
       "154688     187906  Michael Ii   M  United States  USA  2012  Summer   \n",
       "154689     187907  Michael Ii   M  United States  USA  2012  Summer   \n",
       "154690     187908  Michael Ii   M  United States  USA  2012  Summer   \n",
       "154691     187909  Michael Ii   M  United States  USA  2012  Summer   \n",
       "154692     187910  Michael Ii   M  United States  USA  2012  Summer   \n",
       "154693     187911  Michael Ii   M  United States  USA  2016  Summer   \n",
       "154694     187912  Michael Ii   M  United States  USA  2016  Summer   \n",
       "154695     187913  Michael Ii   M  United States  USA  2016  Summer   \n",
       "154696     187914  Michael Ii   M  United States  USA  2016  Summer   \n",
       "154697     187915  Michael Ii   M  United States  USA  2016  Summer   \n",
       "154698     187916  Michael Ii   M  United States  USA  2016  Summer   \n",
       "\n",
       "                  City     Sport  \\\n",
       "154669          Sydney  Swimming   \n",
       "154670          Athina  Swimming   \n",
       "154671          Athina  Swimming   \n",
       "154672          Athina  Swimming   \n",
       "154673          Athina  Swimming   \n",
       "154674          Athina  Swimming   \n",
       "154675          Athina  Swimming   \n",
       "154676          Athina  Swimming   \n",
       "154677          Athina  Swimming   \n",
       "154678         Beijing  Swimming   \n",
       "154679         Beijing  Swimming   \n",
       "154680         Beijing  Swimming   \n",
       "154681         Beijing  Swimming   \n",
       "154682         Beijing  Swimming   \n",
       "154683         Beijing  Swimming   \n",
       "154684         Beijing  Swimming   \n",
       "154685         Beijing  Swimming   \n",
       "154686          London  Swimming   \n",
       "154687          London  Swimming   \n",
       "154688          London  Swimming   \n",
       "154689          London  Swimming   \n",
       "154690          London  Swimming   \n",
       "154691          London  Swimming   \n",
       "154692          London  Swimming   \n",
       "154693  Rio de Janeiro  Swimming   \n",
       "154694  Rio de Janeiro  Swimming   \n",
       "154695  Rio de Janeiro  Swimming   \n",
       "154696  Rio de Janeiro  Swimming   \n",
       "154697  Rio de Janeiro  Swimming   \n",
       "154698  Rio de Janeiro  Swimming   \n",
       "\n",
       "                                                Event     Medal  \n",
       "154669            Swimming Men's 200 metres Butterfly  No medal  \n",
       "154670            Swimming Men's 200 metres Freestyle    Bronze  \n",
       "154671  Swimming Men's 4 x 100 metres Freestyle Relay    Bronze  \n",
       "154672  Swimming Men's 4 x 200 metres Freestyle Relay      Gold  \n",
       "154673            Swimming Men's 100 metres Butterfly      Gold  \n",
       "154674            Swimming Men's 200 metres Butterfly      Gold  \n",
       "154675    Swimming Men's 200 metres Individual Medley      Gold  \n",
       "154676    Swimming Men's 400 metres Individual Medley      Gold  \n",
       "154677     Swimming Men's 4 x 100 metres Medley Relay      Gold  \n",
       "154678            Swimming Men's 200 metres Freestyle      Gold  \n",
       "154679  Swimming Men's 4 x 100 metres Freestyle Relay      Gold  \n",
       "154680  Swimming Men's 4 x 200 metres Freestyle Relay      Gold  \n",
       "154681            Swimming Men's 100 metres Butterfly      Gold  \n",
       "154682            Swimming Men's 200 metres Butterfly      Gold  \n",
       "154683    Swimming Men's 200 metres Individual Medley      Gold  \n",
       "154684    Swimming Men's 400 metres Individual Medley      Gold  \n",
       "154685     Swimming Men's 4 x 100 metres Medley Relay      Gold  \n",
       "154686  Swimming Men's 4 x 100 metres Freestyle Relay    Silver  \n",
       "154687  Swimming Men's 4 x 200 metres Freestyle Relay      Gold  \n",
       "154688            Swimming Men's 100 metres Butterfly      Gold  \n",
       "154689            Swimming Men's 200 metres Butterfly    Silver  \n",
       "154690    Swimming Men's 200 metres Individual Medley      Gold  \n",
       "154691    Swimming Men's 400 metres Individual Medley  No medal  \n",
       "154692     Swimming Men's 4 x 100 metres Medley Relay      Gold  \n",
       "154693  Swimming Men's 4 x 100 metres Freestyle Relay      Gold  \n",
       "154694  Swimming Men's 4 x 200 metres Freestyle Relay      Gold  \n",
       "154695            Swimming Men's 100 metres Butterfly    Silver  \n",
       "154696            Swimming Men's 200 metres Butterfly      Gold  \n",
       "154697    Swimming Men's 200 metres Individual Medley      Gold  \n",
       "154698     Swimming Men's 4 x 100 metres Medley Relay      Gold  "
      ]
     },
     "execution_count": 32,
     "metadata": {},
     "output_type": "execute_result"
    }
   ],
   "source": [
    "top = medals_count.idxmax()\n",
    "\n",
    "# Вывод не только имени игрока, но и его истории в олимпийских играх\n",
    "player_data = data[data['Name'] == top]\n",
    "\n",
    "player_data"
   ]
  },
  {
   "cell_type": "markdown",
   "metadata": {
    "id": "hAITny41zgjO"
   },
   "source": [
    "3. Какой спорт является самым популярным, то есть в нём участвовало больше всего спортсменов за всё время?"
   ]
  },
  {
   "cell_type": "code",
   "execution_count": 34,
   "metadata": {
    "id": "3aG36MWizmVa"
   },
   "outputs": [
    {
     "data": {
      "text/plain": [
       "'Athletics'"
      ]
     },
     "execution_count": 34,
     "metadata": {},
     "output_type": "execute_result"
    }
   ],
   "source": [
    "sport_popularity = data.groupby('Sport')['Name'].nunique()\n",
    "\n",
    "most_popular = sport_popularity.idxmax()\n",
    "\n",
    "most_popular"
   ]
  },
  {
   "cell_type": "markdown",
   "metadata": {
    "id": "8AU6Qj1nzmo9"
   },
   "source": [
    "4. Кто был победителем медального зачёта в 2004 году?"
   ]
  },
  {
   "cell_type": "code",
   "execution_count": 41,
   "metadata": {
    "id": "VU9cUVwCzr4v"
   },
   "outputs": [
    {
     "data": {
      "text/plain": [
       "'USA'"
      ]
     },
     "execution_count": 41,
     "metadata": {},
     "output_type": "execute_result"
    }
   ],
   "source": [
    "data2004 = data[data['Year'] == 2004]\n",
    "\n",
    "medals2004 = data2004.loc[data2004['Medal'] != 'No medal']\n",
    "\n",
    "medals_count = medals2004.pivot_table(index='NOC', columns='Medal', aggfunc='size', fill_value=0)\n",
    "\n",
    "medals_count = medals_count.sort_values(by=['Gold', 'Silver', 'Bronze'], ascending=False)\n",
    "\n",
    "winner = medals_count.index[0]\n",
    "\n",
    "winner"
   ]
  },
  {
   "cell_type": "markdown",
   "metadata": {
    "id": "WW5dyJHlzsMS"
   },
   "source": [
    "5. В каком виде спорта США завоевало наибольшее число медалей?"
   ]
  },
  {
   "cell_type": "code",
   "execution_count": 47,
   "metadata": {
    "id": "VStk_FqV1RMW"
   },
   "outputs": [
    {
     "data": {
      "text/plain": [
       "'Swimming'"
      ]
     },
     "execution_count": 47,
     "metadata": {},
     "output_type": "execute_result"
    }
   ],
   "source": [
    "usa_medals = data[(data['NOC'] == 'USA') & (data2004['Medal'] != 'No medal')]\n",
    "\n",
    "usa_sports = usa_medals.groupby('Sport')['Medal'].count()\n",
    "\n",
    "top_sport = usa_sports.idxmax()\n",
    "\n",
    "top_sport"
   ]
  },
  {
   "cell_type": "markdown",
   "metadata": {
    "id": "mqT-RjT5ymfJ"
   },
   "source": [
    "# С помощью графика покажите:"
   ]
  },
  {
   "cell_type": "code",
   "execution_count": 49,
   "metadata": {},
   "outputs": [
    {
     "name": "stderr",
     "output_type": "stream",
     "text": [
      "Matplotlib is building the font cache; this may take a moment.\n"
     ]
    }
   ],
   "source": [
    "import matplotlib.pyplot as plt"
   ]
  },
  {
   "cell_type": "markdown",
   "metadata": {
    "id": "KrawmUwtERK0"
   },
   "source": [
    "6. Сколько женщин и мужчин участвовало в Летних Олимпийских играх каждый год?"
   ]
  },
  {
   "cell_type": "code",
   "execution_count": 53,
   "metadata": {
    "id": "xIDuYWxLEZty"
   },
   "outputs": [
    {
     "data": {
      "image/png": "[encoded data removed]",
      "text/plain": [
       "<Figure size 1200x600 with 1 Axes>"
      ]
     },
     "metadata": {},
     "output_type": "display_data"
    }
   ],
   "source": [
    "summer = data[data['Season'] == 'Summer']\n",
    "gender_counts = summer.groupby(['Year', 'Sex'])['Name'].nunique().unstack()\n",
    "\n",
    "plt.figure(figsize=(12, 6))\n",
    "plt.plot(gender_counts.index, gender_counts['M'], label='Мужчины', color='blue')\n",
    "plt.plot(gender_counts.index, gender_counts['F'], label='Женщины', color='red')\n",
    "\n",
    "plt.title('Количество мужчин и женщин на Летних Олимпийских играх', fontsize=14)\n",
    "plt.xlabel('Год', fontsize=12)\n",
    "plt.ylabel('Количество участников', fontsize=12)\n",
    "plt.legend(fontsize=12)\n",
    "plt.grid(True)\n",
    "plt.tight_layout()"
   ]
  },
  {
   "cell_type": "markdown",
   "metadata": {
    "id": "Vd7kfuEeEZSr"
   },
   "source": [
    "7. Какие 10 стран на текущий момент имеют наибольшее количество золотых медалей?\n"
   ]
  },
  {
   "cell_type": "code",
   "execution_count": 129,
   "metadata": {
    "id": "weNY9z0NFb4c"
   },
   "outputs": [
    {
     "data": {
      "image/png": "[encoded data removed]",
      "text/plain": [
       "<Figure size 1200x600 with 1 Axes>"
      ]
     },
     "metadata": {},
     "output_type": "display_data"
    }
   ],
   "source": [
    "medals = data.loc[data['Medal'] == 'Gold']\n",
    "\n",
    "countries = medals.groupby('NOC')['Medal'].count()\n",
    "\n",
    "top10 = countries.nlargest(10)\n",
    "\n",
    "plt.figure(figsize=(12, 6))\n",
    "top10.plot(kind='bar', color='grey', edgecolor='black')\n",
    "\n",
    "plt.title('Топ 10 стран по количеству медалей', fontsize=14)\n",
    "plt.xlabel('Страна', fontsize=12)\n",
    "plt.ylabel('Количество медалей', fontsize=12)\n",
    "plt.xticks(rotation=0)\n",
    "plt.grid(axis='y', linestyle='--', alpha=0.7)\n",
    "plt.tight_layout()"
   ]
  },
  {
   "cell_type": "markdown",
   "metadata": {
    "id": "SlRCGFkXFbBq"
   },
   "source": [
    "8. Сколько золотых, серебряных и бронзовых медалей зарабатывал СССР отдельно по каждым играм?"
   ]
  },
  {
   "cell_type": "code",
   "execution_count": 100,
   "metadata": {
    "id": "SzrdxQhaF7gT"
   },
   "outputs": [
    {
     "data": {
      "image/png": "[encoded data removed]",
      "text/plain": [
       "<Figure size 1200x600 with 1 Axes>"
      ]
     },
     "metadata": {},
     "output_type": "display_data"
    }
   ],
   "source": [
    "urs_medals = data[(data['NOC'] == 'URS') & (data['Medal'] != 'No medal')]\n",
    "\n",
    "medals_count = urs_medals.pivot_table(index='Year', columns='Medal', aggfunc='size', fill_value=0)\n",
    "\n",
    "years = medals_count.index\n",
    "x = np.arange(len(years))  \n",
    "\n",
    "bar_width = 0.2\n",
    "\n",
    "plt.figure(figsize=(12, 6))\n",
    "\n",
    "plt.bar(x - bar_width, medals_count['Gold'], width=bar_width, label='Золотые', color='gold', edgecolor='black')\n",
    "plt.bar(x, medals_count['Silver'], width=bar_width, label='Серебряные', color='silver', edgecolor='black')\n",
    "plt.bar(x + bar_width, medals_count['Bronze'], width=bar_width, label='Бронзовые', color='#cd7f32', edgecolor='black')\n",
    "\n",
    "plt.title('Количество медалей СССР по Олимпиадам', fontsize=14)\n",
    "plt.xlabel('Год', fontsize=12)\n",
    "plt.ylabel('Количество медалей', fontsize=12)\n",
    "plt.xticks(x, years)\n",
    "plt.legend(fontsize=12)\n",
    "plt.grid(axis='y', linestyle='--', alpha=0.7)\n",
    "plt.tight_layout()"
   ]
  },
  {
   "cell_type": "markdown",
   "metadata": {
    "id": "L7Nnrghyy07f"
   },
   "source": [
    "9. Сколько медалей завоёвывали спортсмены и спортсменки (отдельно) команды Китая на каждой олимпиаде?\n"
   ]
  },
  {
   "cell_type": "code",
   "execution_count": 120,
   "metadata": {
    "id": "IjMC9RULy0tE"
   },
   "outputs": [
    {
     "data": {
      "image/png": "[encoded data removed]",
      "text/plain": [
       "<Figure size 1200x600 with 1 Axes>"
      ]
     },
     "metadata": {},
     "output_type": "display_data"
    }
   ],
   "source": [
    "china_medals = data[(data['NOC'] == 'CHN') & (data['Medal'] != 'No medal')]\n",
    "\n",
    "medals_count = china_medals.pivot_table(index='Year', columns='Sex', aggfunc='size', fill_value=0)\n",
    "\n",
    "years = medals_count.index\n",
    "x = np.arange(len(years))  \n",
    "\n",
    "bar_width = 0.2\n",
    "\n",
    "plt.figure(figsize=(12, 6))\n",
    "\n",
    "plt.bar(x - bar_width / 2, medals_count['M'], width=bar_width, label='Спортсмены', color='blue', edgecolor='black')\n",
    "plt.bar(x + bar_width / 2, medals_count['F'], width=bar_width, label='Спортсменки', color='red', edgecolor='black')\n",
    "\n",
    "plt.title('Количество медалей СССР по Олимпиадам', fontsize=14)\n",
    "plt.xlabel('Год', fontsize=12)\n",
    "plt.ylabel('Количество медалей', fontsize=12)\n",
    "plt.xticks(x, years)\n",
    "plt.legend(fontsize=12)\n",
    "plt.grid(axis='y', linestyle='--', alpha=0.7)\n",
    "plt.tight_layout()"
   ]
  },
  {
   "cell_type": "markdown",
   "metadata": {
    "id": "QF1-5fg3y1SY"
   },
   "source": [
    "10. Какие 10 стран имеют наибольшее количество участников, не получивших никаких медалей ни на одной из Летних олимпиад?"
   ]
  },
  {
   "cell_type": "code",
   "execution_count": 162,
   "metadata": {},
   "outputs": [
    {
     "data": {
      "image/png": "[encoded data removed]",
      "text/plain": [
       "<Figure size 1200x600 with 1 Axes>"
      ]
     },
     "metadata": {},
     "output_type": "display_data"
    }
   ],
   "source": [
    "no_medals = data[(data['Medal'] == 'No medal')]\n",
    "\n",
    "countries = no_medals.groupby(['Team'])['Name'].size()\n",
    "\n",
    "top10 = countries.nlargest(10)\n",
    "\n",
    "plt.figure(figsize=(12, 6))\n",
    "top10.plot(kind='bar', color='grey', edgecolor='black')\n",
    "\n",
    "plt.title('Топ 10 стран по наибольшему количеству участников без медалей', fontsize=14)\n",
    "plt.xlabel('Страна', fontsize=12)\n",
    "plt.ylabel('Количество медалей', fontsize=12)\n",
    "plt.xticks(rotation=0)\n",
    "plt.grid(axis='y', linestyle='--', alpha=0.7)\n",
    "plt.tight_layout()"
   ]
  },
  {
   "cell_type": "markdown",
   "metadata": {
    "id": "uc7V9_XbG5lY"
   },
   "source": [
    "**Выводы:** \n",
    "\n",
    "В данной лабораторной работе я ознакомился с использованием NumPy для работы с массивами для различных задач, а также ознакомился с Pandas и применил его для работы с таблицей данных, и применил matplotlib.pyplot для визуализации получаемых данных."
   ]
  }
 ],
 "metadata": {
  "colab": {
   "provenance": []
  },
  "kernelspec": {
   "display_name": "Python 3 (ipykernel)",
   "language": "python",
   "name": "python3"
  },
  "language_info": {
   "codemirror_mode": {
    "name": "ipython",
    "version": 3
   },
   "file_extension": ".py",
   "mimetype": "text/x-python",
   "name": "python",
   "nbconvert_exporter": "python",
   "pygments_lexer": "ipython3",
   "version": "3.12.7"
  }
 },
 "nbformat": 4,
 "nbformat_minor": 4
}
